{
  "nbformat": 4,
  "nbformat_minor": 0,
  "metadata": {
    "colab": {
      "name": "Untitled6.ipynb",
      "provenance": []
    },
    "kernelspec": {
      "name": "python3",
      "display_name": "Python 3"
    },
    "language_info": {
      "name": "python"
    }
  },
  "cells": [
    {
      "cell_type": "code",
      "execution_count": 26,
      "metadata": {
        "colab": {
          "base_uri": "https://localhost:8080/"
        },
        "id": "InWqaU1N-9Q2",
        "outputId": "b6deeeac-41b4-4460-ac59-ed914e585a44"
      },
      "outputs": [
        {
          "output_type": "stream",
          "name": "stdout",
          "text": [
            "[ 0.144  0.937  1.787 -1.052 -0.192  0.169  2.623  2.135  1.759  0.811\n",
            "  0.724 -0.11   1.752 -0.378  0.417  1.36   1.365  2.587  1.621  2.344\n",
            "  1.379  0.56   1.858  2.453 -0.356  1.503 -0.134  2.95  -0.816  0.717\n",
            "  2.468  1.131  1.047  1.355  1.162 -0.491  0.261 -0.183  0.467  0.502\n",
            " -0.805  0.228  2.286  0.364 -0.312 -0.045  2.559  0.129  0.898  0.877\n",
            "  3.285  1.554  1.418  0.423 -0.489 -0.255  1.092  0.402 -0.051  0.02\n",
            "  0.398  1.399  2.121 -0.026  1.087  2.018 -0.437  1.661  1.091  0.363\n",
            "  1.229  0.416  1.705  1.124  1.341  2.32   0.176 -0.541  0.837  3.329\n",
            "  2.382 -0.454  2.537 -0.299  1.363  0.644  0.975  1.294  3.194  0.605\n",
            "  1.978  1.109  2.434 -0.094  0.735  0.143 -0.421 -0.773  1.57   0.947]\n"
          ]
        }
      ],
      "source": [
        "import numpy as np\n",
        "import statistics as st\n",
        "import matplotlib.pyplot as plt\n",
        "\n",
        "\n",
        "fin = open(\"data.txt\", \"rt\")\n",
        "data = fin.read()\n",
        "data = data.replace(',', '.')\n",
        "fin.close()\n",
        "fin = open(\"data.txt\", \"wt\")\n",
        "fin.write(data)\n",
        "fin.close()\n",
        "#arr = pd.read_csv(r\"/path/to/file.txt\", sep=\"\\s+\", decimal=\",\").to_numpy()\n",
        "\n",
        "array = np.loadtxt('data.txt')\n",
        "\n",
        "print (array)\n"
      ]
    },
    {
      "cell_type": "code",
      "source": [
        "mean_ = st.mean(array)\n",
        "print (mean_)"
      ],
      "metadata": {
        "colab": {
          "base_uri": "https://localhost:8080/"
        },
        "id": "4YDLHLuNXquq",
        "outputId": "b2ae6c2c-c61f-4612-ad40-89fc7e04e58f"
      },
      "execution_count": 27,
      "outputs": [
        {
          "output_type": "stream",
          "name": "stdout",
          "text": [
            "0.93694\n"
          ]
        }
      ]
    },
    {
      "cell_type": "code",
      "source": [
        "median_ = st.median (array)\n",
        "print (median_)"
      ],
      "metadata": {
        "colab": {
          "base_uri": "https://localhost:8080/"
        },
        "id": "vsX35QD-X5EN",
        "outputId": "1e795cbe-6ec9-47af-c125-ec7c0f40ecaa"
      },
      "execution_count": 28,
      "outputs": [
        {
          "output_type": "stream",
          "name": "stdout",
          "text": [
            "0.9175\n"
          ]
        }
      ]
    },
    {
      "cell_type": "code",
      "source": [
        "median_low_ = st.median_low(array)\n",
        "print (median_low_)"
      ],
      "metadata": {
        "colab": {
          "base_uri": "https://localhost:8080/"
        },
        "id": "WG4p0ebAX_v3",
        "outputId": "4a91933e-56ea-425f-fe74-4ed227fb2a23"
      },
      "execution_count": 29,
      "outputs": [
        {
          "output_type": "stream",
          "name": "stdout",
          "text": [
            "0.898\n"
          ]
        }
      ]
    },
    {
      "cell_type": "code",
      "source": [
        "median_high_ = st.median_high (array)\n",
        "print (median_high_)"
      ],
      "metadata": {
        "colab": {
          "base_uri": "https://localhost:8080/"
        },
        "id": "AdT0JTvvYHmD",
        "outputId": "c800cb91-02a2-421f-ee64-883b81e225fb"
      },
      "execution_count": 30,
      "outputs": [
        {
          "output_type": "stream",
          "name": "stdout",
          "text": [
            "0.937\n"
          ]
        }
      ]
    },
    {
      "cell_type": "code",
      "source": [
        "dev = st.stdev(array)\n",
        "print (dev)"
      ],
      "metadata": {
        "colab": {
          "base_uri": "https://localhost:8080/"
        },
        "id": "WuVopQzbYm2v",
        "outputId": "bd01ada2-d4ba-4350-cbee-2780f0ea961a"
      },
      "execution_count": 31,
      "outputs": [
        {
          "output_type": "stream",
          "name": "stdout",
          "text": [
            "1.0436712379524948\n"
          ]
        }
      ]
    },
    {
      "cell_type": "code",
      "source": [
        "variance_ = st.variance(array)\n",
        "print (variance_)"
      ],
      "metadata": {
        "colab": {
          "base_uri": "https://localhost:8080/"
        },
        "id": "1WPVTvGrYvgs",
        "outputId": "e3b69bde-1af5-47d7-e45b-eb44893d8c45"
      },
      "execution_count": 32,
      "outputs": [
        {
          "output_type": "stream",
          "name": "stdout",
          "text": [
            "1.089249652929293\n"
          ]
        }
      ]
    },
    {
      "cell_type": "code",
      "source": [
        "maximum = max(array)\n",
        "print (maximum)"
      ],
      "metadata": {
        "colab": {
          "base_uri": "https://localhost:8080/"
        },
        "id": "rDn-dTz4ZS0o",
        "outputId": "feb8ec1f-923a-4deb-9a11-aacfe6c19557"
      },
      "execution_count": 33,
      "outputs": [
        {
          "output_type": "stream",
          "name": "stdout",
          "text": [
            "3.329\n"
          ]
        }
      ]
    },
    {
      "cell_type": "code",
      "source": [
        "minimum = min(array)\n",
        "print (minimum)"
      ],
      "metadata": {
        "colab": {
          "base_uri": "https://localhost:8080/"
        },
        "id": "yuAZZrMPZXLV",
        "outputId": "7b833c14-907b-4519-cb5e-b3b79516c947"
      },
      "execution_count": 34,
      "outputs": [
        {
          "output_type": "stream",
          "name": "stdout",
          "text": [
            "-1.052\n"
          ]
        }
      ]
    },
    {
      "cell_type": "code",
      "source": [
        "range = maximum -minimum\n",
        "print (range)"
      ],
      "metadata": {
        "colab": {
          "base_uri": "https://localhost:8080/"
        },
        "id": "xpuGM5GMZbfS",
        "outputId": "a4bb679b-80dd-499f-fd95-79ebe983c088"
      },
      "execution_count": 35,
      "outputs": [
        {
          "output_type": "stream",
          "name": "stdout",
          "text": [
            "4.381\n"
          ]
        }
      ]
    },
    {
      "cell_type": "code",
      "source": [
        "cumulative = np.cumsum(array)\n",
        "print (cumulative)"
      ],
      "metadata": {
        "colab": {
          "base_uri": "https://localhost:8080/"
        },
        "id": "VYk-Jl_cZ7_W",
        "outputId": "97d56062-bdf8-4595-97ae-0d45acda13a4"
      },
      "execution_count": 36,
      "outputs": [
        {
          "output_type": "stream",
          "name": "stdout",
          "text": [
            "[ 0.144  1.081  2.868  1.816  1.624  1.793  4.416  6.551  8.31   9.121\n",
            "  9.845  9.735 11.487 11.109 11.526 12.886 14.251 16.838 18.459 20.803\n",
            " 22.182 22.742 24.6   27.053 26.697 28.2   28.066 31.016 30.2   30.917\n",
            " 33.385 34.516 35.563 36.918 38.08  37.589 37.85  37.667 38.134 38.636\n",
            " 37.831 38.059 40.345 40.709 40.397 40.352 42.911 43.04  43.938 44.815\n",
            " 48.1   49.654 51.072 51.495 51.006 50.751 51.843 52.245 52.194 52.214\n",
            " 52.612 54.011 56.132 56.106 57.193 59.211 58.774 60.435 61.526 61.889\n",
            " 63.118 63.534 65.239 66.363 67.704 70.024 70.2   69.659 70.496 73.825\n",
            " 76.207 75.753 78.29  77.991 79.354 79.998 80.973 82.267 85.461 86.066\n",
            " 88.044 89.153 91.587 91.493 92.228 92.371 91.95  91.177 92.747 93.694]\n"
          ]
        }
      ]
    },
    {
      "cell_type": "code",
      "source": [
        "k=np.histogram(array)"
      ],
      "metadata": {
        "id": "D5rrb5WmbALR"
      },
      "execution_count": 40,
      "outputs": []
    },
    {
      "cell_type": "code",
      "source": [
        "plt.hist(array) "
      ],
      "metadata": {
        "colab": {
          "base_uri": "https://localhost:8080/",
          "height": 333
        },
        "id": "WD8Hz7itbL0i",
        "outputId": "dcfeff6a-4446-4edd-9de6-8ad36caf054b"
      },
      "execution_count": 42,
      "outputs": [
        {
          "output_type": "execute_result",
          "data": {
            "text/plain": [
              "(array([ 4., 13., 14., 12., 17., 14.,  8.,  8.,  6.,  4.]),\n",
              " array([-1.052 , -0.6139, -0.1758,  0.2623,  0.7004,  1.1385,  1.5766,\n",
              "         2.0147,  2.4528,  2.8909,  3.329 ]),\n",
              " <a list of 10 Patch objects>)"
            ]
          },
          "metadata": {},
          "execution_count": 42
        },
        {
          "output_type": "display_data",
          "data": {
            "image/png": "[encoded data removed]",
            "text/plain": [
              "<Figure size 432x288 with 1 Axes>"
            ]
          },
          "metadata": {
            "needs_background": "light"
          }
        }
      ]
    },
    {
      "cell_type": "code",
      "source": [
        "def plot_empirical_cdf(sample):\n",
        "    plt.hist(sample, histtype='step', cumulative=True, bins=len(sample))\n",
        "    plt.show()\n",
        "\n",
        "plot_empirical_cdf(array)"
      ],
      "metadata": {
        "colab": {
          "base_uri": "https://localhost:8080/",
          "height": 265
        },
        "id": "jdH3mMxhcgRc",
        "outputId": "25add70a-4ce3-420b-f4fa-86da860ce724"
      },
      "execution_count": 43,
      "outputs": [
        {
          "output_type": "display_data",
          "data": {
            "image/png": "[encoded data removed]",
            "text/plain": [
              "<Figure size 432x288 with 1 Axes>"
            ]
          },
          "metadata": {
            "needs_background": "light"
          }
        }
      ]
    }
  ]
}