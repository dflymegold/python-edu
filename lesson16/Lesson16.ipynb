{
  "nbformat": 4,
  "nbformat_minor": 0,
  "metadata": {
    "colab": {
      "name": "Lesson16.ipynb",
      "provenance": []
    },
    "kernelspec": {
      "name": "python3",
      "display_name": "Python 3"
    },
    "language_info": {
      "name": "python"
    }
  },
  "cells": [
    {
      "cell_type": "code",
      "execution_count": 81,
      "metadata": {
        "colab": {
          "base_uri": "https://localhost:8080/"
        },
        "id": "I7IxIr2jeGcr",
        "outputId": "a4c37d55-b2cf-4774-946f-cefc9f32c0f3"
      },
      "outputs": [
        {
          "output_type": "stream",
          "name": "stdout",
          "text": [
            "[[0, 1, 1], [1, 0, 0], [0, 0, 1], [0, 1, 0], [0, 1, 1], [0, 1, 0], [0, 0, 0], [0, 0, 1], [1, 0, 0], [1, 0, 1]]\n"
          ]
        },
        {
          "output_type": "execute_result",
          "data": {
            "text/plain": [
              "array([0, 1, 0, 0, 0, 0, 1, 0, 1, 0])"
            ]
          },
          "metadata": {},
          "execution_count": 81
        }
      ],
      "source": [
        "from sklearn.neural_network import MLPClassifier\n",
        "import random\n",
        "# values from table\n",
        "X = [[0,0,0],[0,0,1],[0,1,0],[0,1,1],[1,0,0],[1,0,1],[1,1,0],[1,1,1]]\n",
        "y  =[1,0,1,0,1,0,1,0]\n",
        "\n",
        "# generating other 72 elemets of dataset\n",
        "for i in range (0,72):  \n",
        "  foo = random.randint(0,1)\n",
        "  baa  = [random.uniform(0,1) for j in range(0,3)]\n",
        "  y.append(foo)\n",
        "  X.append(baa)\n",
        "# since the random.uniform function generates numbers with float type, it's need to modify array to binary like array\n",
        "# so if element <= 0.4 then it's 0 ,else 1\n",
        "for i in range (len(X)):\n",
        "  for j in range (0,3):\n",
        "    if X[i][j]<=0.4 :\n",
        "      X[i][j] = 0\n",
        "    else :\n",
        "      X[i][j] = 1\n",
        "clf = MLPClassifier(solver='lbfgs', alpha=1e-5,\n",
        "                    hidden_layer_sizes=(5, 2), \n",
        "                    random_state=1)\n",
        "clf.fit (X,y)\n",
        "\n",
        "X_test = []\n",
        "for i in range (0,10):\n",
        "  roo = [random.randint(0,1) for j in range(0,3)]\n",
        "  X_test.append(roo)\n",
        "print (X_test)\n",
        "clf.predict (X_test)"
      ]
    }
  ]
}