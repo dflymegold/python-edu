{
  "nbformat": 4,
  "nbformat_minor": 0,
  "metadata": {
    "colab": {
      "name": "Untitled35.ipynb",
      "provenance": []
    },
    "kernelspec": {
      "name": "python3",
      "display_name": "Python 3"
    },
    "language_info": {
      "name": "python"
    }
  },
  "cells": [
    {
      "cell_type": "code",
      "execution_count": 2,
      "metadata": {
        "id": "wNsqgNODCQ0a"
      },
      "outputs": [],
      "source": [
        "text_file = \"/content/dataset.txt\"\n",
        "# read all lines at once\n",
        "with open(text_file, 'r', encoding= 'unicode_escape') as f:\n",
        "    lines = f.readlines()\n"
      ]
    },
    {
      "cell_type": "code",
      "source": [
        "import spacy\n",
        "nlp = spacy.load('en')\n",
        "foo =[]\n",
        "cleaned = []\n",
        "for i in range(len(lines)) :\n",
        "   t = lines[i].strip('\\n')\n",
        "   k = t.strip('\\r')\n",
        "   j = k.strip('\\t')\n",
        "   h = j.replace('  ',' ')\n",
        "   foo.append (h)\n",
        "\n",
        "mystring = ' '.join(map(str,foo))\n",
        "doc = nlp (str(mystring))"
      ],
      "metadata": {
        "id": "ZxYohjp4HeOs"
      },
      "execution_count": 5,
      "outputs": []
    },
    {
      "cell_type": "code",
      "source": [
        "import pandas as pd\n",
        "result_list = []\n",
        "for token in doc:\n",
        "  result_list.append([token.text, token.pos_, token.tag_, token.dep_])\n",
        "\n",
        "df = pd.DataFrame(result_list, columns=['TEXT', 'POS_', 'TAG_', 'DEP_'])\n",
        "df.head()"
      ],
      "metadata": {
        "colab": {
          "base_uri": "https://localhost:8080/",
          "height": 204
        },
        "id": "z06kB7x6Qjm_",
        "outputId": "14dc71c7-6ea9-4421-ffc3-260768494bc2"
      },
      "execution_count": 11,
      "outputs": [
        {
          "output_type": "execute_result",
          "data": {
            "text/plain": [
              "        TEXT   POS_ TAG_      DEP_\n",
              "0        The    DET   DT       det\n",
              "1      Fifth  PROPN  NNP      amod\n",
              "2   Elephant  PROPN  NNP  compound\n",
              "3          A  PROPN  NNP  compound\n",
              "4  Discworld  PROPN  NNP  compound"
            ],
            "text/html": [
              "\n",
              "  <div id=\"df-26b38cef-6f1b-4267-b45d-9e4beabd7fe2\">\n",
              "    <div class=\"colab-df-container\">\n",
              "      <div>\n",
              "<style scoped>\n",
              "    .dataframe tbody tr th:only-of-type {\n",
              "        vertical-align: middle;\n",
              "    }\n",
              "\n",
              "    .dataframe tbody tr th {\n",
              "        vertical-align: top;\n",
              "    }\n",
              "\n",
              "    .dataframe thead th {\n",
              "        text-align: right;\n",
              "    }\n",
              "</style>\n",
              "<table border=\"1\" class=\"dataframe\">\n",
              "  <thead>\n",
              "    <tr style=\"text-align: right;\">\n",
              "      <th></th>\n",
              "      <th>TEXT</th>\n",
              "      <th>POS_</th>\n",
              "      <th>TAG_</th>\n",
              "      <th>DEP_</th>\n",
              "    </tr>\n",
              "  </thead>\n",
              "  <tbody>\n",
              "    <tr>\n",
              "      <th>0</th>\n",
              "      <td>The</td>\n",
              "      <td>DET</td>\n",
              "      <td>DT</td>\n",
              "      <td>det</td>\n",
              "    </tr>\n",
              "    <tr>\n",
              "      <th>1</th>\n",
              "      <td>Fifth</td>\n",
              "      <td>PROPN</td>\n",
              "      <td>NNP</td>\n",
              "      <td>amod</td>\n",
              "    </tr>\n",
              "    <tr>\n",
              "      <th>2</th>\n",
              "      <td>Elephant</td>\n",
              "      <td>PROPN</td>\n",
              "      <td>NNP</td>\n",
              "      <td>compound</td>\n",
              "    </tr>\n",
              "    <tr>\n",
              "      <th>3</th>\n",
              "      <td>A</td>\n",
              "      <td>PROPN</td>\n",
              "      <td>NNP</td>\n",
              "      <td>compound</td>\n",
              "    </tr>\n",
              "    <tr>\n",
              "      <th>4</th>\n",
              "      <td>Discworld</td>\n",
              "      <td>PROPN</td>\n",
              "      <td>NNP</td>\n",
              "      <td>compound</td>\n",
              "    </tr>\n",
              "  </tbody>\n",
              "</table>\n",
              "</div>\n",
              "      <button class=\"colab-df-convert\" onclick=\"convertToInteractive('df-26b38cef-6f1b-4267-b45d-9e4beabd7fe2')\"\n",
              "              title=\"Convert this dataframe to an interactive table.\"\n",
              "              style=\"display:none;\">\n",
              "        \n",
              "  <svg xmlns=\"http://www.w3.org/2000/svg\" height=\"24px\"viewBox=\"0 0 24 24\"\n",
              "       width=\"24px\">\n",
              "    <path d=\"M0 0h24v24H0V0z\" fill=\"none\"/>\n",
              "    <path d=\"M18.56 5.44l.94 2.06.94-2.06 2.06-.94-2.06-.94-.94-2.06-.94 2.06-2.06.94zm-11 1L8.5 8.5l.94-2.06 2.06-.94-2.06-.94L8.5 2.5l-.94 2.06-2.06.94zm10 10l.94 2.06.94-2.06 2.06-.94-2.06-.94-.94-2.06-.94 2.06-2.06.94z\"/><path d=\"M17.41 7.96l-1.37-1.37c-.4-.4-.92-.59-1.43-.59-.52 0-1.04.2-1.43.59L10.3 9.45l-7.72 7.72c-.78.78-.78 2.05 0 2.83L4 21.41c.39.39.9.59 1.41.59.51 0 1.02-.2 1.41-.59l7.78-7.78 2.81-2.81c.8-.78.8-2.07 0-2.86zM5.41 20L4 18.59l7.72-7.72 1.47 1.35L5.41 20z\"/>\n",
              "  </svg>\n",
              "      </button>\n",
              "      \n",
              "  <style>\n",
              "    .colab-df-container {\n",
              "      display:flex;\n",
              "      flex-wrap:wrap;\n",
              "      gap: 12px;\n",
              "    }\n",
              "\n",
              "    .colab-df-convert {\n",
              "      background-color: #E8F0FE;\n",
              "      border: none;\n",
              "      border-radius: 50%;\n",
              "      cursor: pointer;\n",
              "      display: none;\n",
              "      fill: #1967D2;\n",
              "      height: 32px;\n",
              "      padding: 0 0 0 0;\n",
              "      width: 32px;\n",
              "    }\n",
              "\n",
              "    .colab-df-convert:hover {\n",
              "      background-color: #E2EBFA;\n",
              "      box-shadow: 0px 1px 2px rgba(60, 64, 67, 0.3), 0px 1px 3px 1px rgba(60, 64, 67, 0.15);\n",
              "      fill: #174EA6;\n",
              "    }\n",
              "\n",
              "    [theme=dark] .colab-df-convert {\n",
              "      background-color: #3B4455;\n",
              "      fill: #D2E3FC;\n",
              "    }\n",
              "\n",
              "    [theme=dark] .colab-df-convert:hover {\n",
              "      background-color: #434B5C;\n",
              "      box-shadow: 0px 1px 3px 1px rgba(0, 0, 0, 0.15);\n",
              "      filter: drop-shadow(0px 1px 2px rgba(0, 0, 0, 0.3));\n",
              "      fill: #FFFFFF;\n",
              "    }\n",
              "  </style>\n",
              "\n",
              "      <script>\n",
              "        const buttonEl =\n",
              "          document.querySelector('#df-26b38cef-6f1b-4267-b45d-9e4beabd7fe2 button.colab-df-convert');\n",
              "        buttonEl.style.display =\n",
              "          google.colab.kernel.accessAllowed ? 'block' : 'none';\n",
              "\n",
              "        async function convertToInteractive(key) {\n",
              "          const element = document.querySelector('#df-26b38cef-6f1b-4267-b45d-9e4beabd7fe2');\n",
              "          const dataTable =\n",
              "            await google.colab.kernel.invokeFunction('convertToInteractive',\n",
              "                                                     [key], {});\n",
              "          if (!dataTable) return;\n",
              "\n",
              "          const docLinkHtml = 'Like what you see? Visit the ' +\n",
              "            '<a target=\"_blank\" href=https://colab.research.google.com/notebooks/data_table.ipynb>data table notebook</a>'\n",
              "            + ' to learn more about interactive tables.';\n",
              "          element.innerHTML = '';\n",
              "          dataTable['output_type'] = 'display_data';\n",
              "          await google.colab.output.renderOutput(dataTable, element);\n",
              "          const docLink = document.createElement('div');\n",
              "          docLink.innerHTML = docLinkHtml;\n",
              "          element.appendChild(docLink);\n",
              "        }\n",
              "      </script>\n",
              "    </div>\n",
              "  </div>\n",
              "  "
            ]
          },
          "metadata": {},
          "execution_count": 11
        }
      ]
    },
    {
      "cell_type": "code",
      "source": [
        "del_dupl = df[~((df.duplicated(['TEXT'])))]"
      ],
      "metadata": {
        "id": "7PqVOLrbTdP4"
      },
      "execution_count": 12,
      "outputs": []
    },
    {
      "cell_type": "code",
      "source": [
        "del_dupl"
      ],
      "metadata": {
        "colab": {
          "base_uri": "https://localhost:8080/",
          "height": 419
        },
        "id": "J9hDK8dcT9d7",
        "outputId": "a7e96191-b260-4b33-a282-8fce57b55857"
      },
      "execution_count": 13,
      "outputs": [
        {
          "output_type": "execute_result",
          "data": {
            "text/plain": [
              "              TEXT   POS_ TAG_      DEP_\n",
              "0              The    DET   DT       det\n",
              "1            Fifth  PROPN  NNP      amod\n",
              "2         Elephant  PROPN  NNP  compound\n",
              "3                A  PROPN  NNP  compound\n",
              "4        Discworld  PROPN  NNP  compound\n",
              "...            ...    ...  ...       ...\n",
              "139182      sheath   NOUN   NN      pobj\n",
              "139198  accusatory    ADJ   JJ      amod\n",
              "139211      softly    ADV   RB    advmod\n",
              "139297    Confusin  PROPN  NNP  npadvmod\n",
              "139467         END  PROPN  NNP      ROOT\n",
              "\n",
              "[9738 rows x 4 columns]"
            ],
            "text/html": [
              "\n",
              "  <div id=\"df-f8a5ba2e-2cd2-4412-8b49-a70761e26ae6\">\n",
              "    <div class=\"colab-df-container\">\n",
              "      <div>\n",
              "<style scoped>\n",
              "    .dataframe tbody tr th:only-of-type {\n",
              "        vertical-align: middle;\n",
              "    }\n",
              "\n",
              "    .dataframe tbody tr th {\n",
              "        vertical-align: top;\n",
              "    }\n",
              "\n",
              "    .dataframe thead th {\n",
              "        text-align: right;\n",
              "    }\n",
              "</style>\n",
              "<table border=\"1\" class=\"dataframe\">\n",
              "  <thead>\n",
              "    <tr style=\"text-align: right;\">\n",
              "      <th></th>\n",
              "      <th>TEXT</th>\n",
              "      <th>POS_</th>\n",
              "      <th>TAG_</th>\n",
              "      <th>DEP_</th>\n",
              "    </tr>\n",
              "  </thead>\n",
              "  <tbody>\n",
              "    <tr>\n",
              "      <th>0</th>\n",
              "      <td>The</td>\n",
              "      <td>DET</td>\n",
              "      <td>DT</td>\n",
              "      <td>det</td>\n",
              "    </tr>\n",
              "    <tr>\n",
              "      <th>1</th>\n",
              "      <td>Fifth</td>\n",
              "      <td>PROPN</td>\n",
              "      <td>NNP</td>\n",
              "      <td>amod</td>\n",
              "    </tr>\n",
              "    <tr>\n",
              "      <th>2</th>\n",
              "      <td>Elephant</td>\n",
              "      <td>PROPN</td>\n",
              "      <td>NNP</td>\n",
              "      <td>compound</td>\n",
              "    </tr>\n",
              "    <tr>\n",
              "      <th>3</th>\n",
              "      <td>A</td>\n",
              "      <td>PROPN</td>\n",
              "      <td>NNP</td>\n",
              "      <td>compound</td>\n",
              "    </tr>\n",
              "    <tr>\n",
              "      <th>4</th>\n",
              "      <td>Discworld</td>\n",
              "      <td>PROPN</td>\n",
              "      <td>NNP</td>\n",
              "      <td>compound</td>\n",
              "    </tr>\n",
              "    <tr>\n",
              "      <th>...</th>\n",
              "      <td>...</td>\n",
              "      <td>...</td>\n",
              "      <td>...</td>\n",
              "      <td>...</td>\n",
              "    </tr>\n",
              "    <tr>\n",
              "      <th>139182</th>\n",
              "      <td>sheath</td>\n",
              "      <td>NOUN</td>\n",
              "      <td>NN</td>\n",
              "      <td>pobj</td>\n",
              "    </tr>\n",
              "    <tr>\n",
              "      <th>139198</th>\n",
              "      <td>accusatory</td>\n",
              "      <td>ADJ</td>\n",
              "      <td>JJ</td>\n",
              "      <td>amod</td>\n",
              "    </tr>\n",
              "    <tr>\n",
              "      <th>139211</th>\n",
              "      <td>softly</td>\n",
              "      <td>ADV</td>\n",
              "      <td>RB</td>\n",
              "      <td>advmod</td>\n",
              "    </tr>\n",
              "    <tr>\n",
              "      <th>139297</th>\n",
              "      <td>Confusin</td>\n",
              "      <td>PROPN</td>\n",
              "      <td>NNP</td>\n",
              "      <td>npadvmod</td>\n",
              "    </tr>\n",
              "    <tr>\n",
              "      <th>139467</th>\n",
              "      <td>END</td>\n",
              "      <td>PROPN</td>\n",
              "      <td>NNP</td>\n",
              "      <td>ROOT</td>\n",
              "    </tr>\n",
              "  </tbody>\n",
              "</table>\n",
              "<p>9738 rows × 4 columns</p>\n",
              "</div>\n",
              "      <button class=\"colab-df-convert\" onclick=\"convertToInteractive('df-f8a5ba2e-2cd2-4412-8b49-a70761e26ae6')\"\n",
              "              title=\"Convert this dataframe to an interactive table.\"\n",
              "              style=\"display:none;\">\n",
              "        \n",
              "  <svg xmlns=\"http://www.w3.org/2000/svg\" height=\"24px\"viewBox=\"0 0 24 24\"\n",
              "       width=\"24px\">\n",
              "    <path d=\"M0 0h24v24H0V0z\" fill=\"none\"/>\n",
              "    <path d=\"M18.56 5.44l.94 2.06.94-2.06 2.06-.94-2.06-.94-.94-2.06-.94 2.06-2.06.94zm-11 1L8.5 8.5l.94-2.06 2.06-.94-2.06-.94L8.5 2.5l-.94 2.06-2.06.94zm10 10l.94 2.06.94-2.06 2.06-.94-2.06-.94-.94-2.06-.94 2.06-2.06.94z\"/><path d=\"M17.41 7.96l-1.37-1.37c-.4-.4-.92-.59-1.43-.59-.52 0-1.04.2-1.43.59L10.3 9.45l-7.72 7.72c-.78.78-.78 2.05 0 2.83L4 21.41c.39.39.9.59 1.41.59.51 0 1.02-.2 1.41-.59l7.78-7.78 2.81-2.81c.8-.78.8-2.07 0-2.86zM5.41 20L4 18.59l7.72-7.72 1.47 1.35L5.41 20z\"/>\n",
              "  </svg>\n",
              "      </button>\n",
              "      \n",
              "  <style>\n",
              "    .colab-df-container {\n",
              "      display:flex;\n",
              "      flex-wrap:wrap;\n",
              "      gap: 12px;\n",
              "    }\n",
              "\n",
              "    .colab-df-convert {\n",
              "      background-color: #E8F0FE;\n",
              "      border: none;\n",
              "      border-radius: 50%;\n",
              "      cursor: pointer;\n",
              "      display: none;\n",
              "      fill: #1967D2;\n",
              "      height: 32px;\n",
              "      padding: 0 0 0 0;\n",
              "      width: 32px;\n",
              "    }\n",
              "\n",
              "    .colab-df-convert:hover {\n",
              "      background-color: #E2EBFA;\n",
              "      box-shadow: 0px 1px 2px rgba(60, 64, 67, 0.3), 0px 1px 3px 1px rgba(60, 64, 67, 0.15);\n",
              "      fill: #174EA6;\n",
              "    }\n",
              "\n",
              "    [theme=dark] .colab-df-convert {\n",
              "      background-color: #3B4455;\n",
              "      fill: #D2E3FC;\n",
              "    }\n",
              "\n",
              "    [theme=dark] .colab-df-convert:hover {\n",
              "      background-color: #434B5C;\n",
              "      box-shadow: 0px 1px 3px 1px rgba(0, 0, 0, 0.15);\n",
              "      filter: drop-shadow(0px 1px 2px rgba(0, 0, 0, 0.3));\n",
              "      fill: #FFFFFF;\n",
              "    }\n",
              "  </style>\n",
              "\n",
              "      <script>\n",
              "        const buttonEl =\n",
              "          document.querySelector('#df-f8a5ba2e-2cd2-4412-8b49-a70761e26ae6 button.colab-df-convert');\n",
              "        buttonEl.style.display =\n",
              "          google.colab.kernel.accessAllowed ? 'block' : 'none';\n",
              "\n",
              "        async function convertToInteractive(key) {\n",
              "          const element = document.querySelector('#df-f8a5ba2e-2cd2-4412-8b49-a70761e26ae6');\n",
              "          const dataTable =\n",
              "            await google.colab.kernel.invokeFunction('convertToInteractive',\n",
              "                                                     [key], {});\n",
              "          if (!dataTable) return;\n",
              "\n",
              "          const docLinkHtml = 'Like what you see? Visit the ' +\n",
              "            '<a target=\"_blank\" href=https://colab.research.google.com/notebooks/data_table.ipynb>data table notebook</a>'\n",
              "            + ' to learn more about interactive tables.';\n",
              "          element.innerHTML = '';\n",
              "          dataTable['output_type'] = 'display_data';\n",
              "          await google.colab.output.renderOutput(dataTable, element);\n",
              "          const docLink = document.createElement('div');\n",
              "          docLink.innerHTML = docLinkHtml;\n",
              "          element.appendChild(docLink);\n",
              "        }\n",
              "      </script>\n",
              "    </div>\n",
              "  </div>\n",
              "  "
            ]
          },
          "metadata": {},
          "execution_count": 13
        }
      ]
    },
    {
      "cell_type": "code",
      "source": [
        "file_name = 'dataset.xlsx'\n",
        "del_dupl.to_excel(file_name)"
      ],
      "metadata": {
        "id": "TUF1cLWfUPl3"
      },
      "execution_count": 14,
      "outputs": []
    },
    {
      "cell_type": "code",
      "source": [
        "import gensim\n",
        "mystring_str = str(mystring)\n",
        "processed_lines = gensim.utils.simple_preprocess(mystring_str)\n",
        "print(processed_lines[0:100])\n"
      ],
      "metadata": {
        "colab": {
          "base_uri": "https://localhost:8080/"
        },
        "id": "B62EobURUmcF",
        "outputId": "443d68bc-a104-4e5c-8e17-41803e3c95c0"
      },
      "execution_count": 25,
      "outputs": [
        {
          "output_type": "stream",
          "name": "stdout",
          "text": [
            "['the', 'fifth', 'elephant', 'discworld', 'novell', 'by', 'terry', 'pratchett', 'they', 'say', 'the', 'world', 'is', 'flat', 'and', 'supported', 'on', 'the', 'back', 'of', 'four', 'elephants', 'who', 'themselves', 'stand', 'on', 'the', 'back', 'of', 'giant', 'turtle', 'they', 'say', 'that', 'the', 'elephants', 'being', 'such', 'huge', 'beasts', 'have', 'bones', 'of', 'rock', 'and', 'iron', 'and', 'nerves', 'of', 'gold', 'for', 'better', 'conductivity', 'over', 'long', 'distances', 'they', 'say', 'that', 'the', 'fifth', 'elephant', 'came', 'screaming', 'and', 'trumpeting', 'through', 'the', 'atmosphere', 'of', 'the', 'young', 'world', 'all', 'those', 'years', 'ago', 'and', 'landed', 'hard', 'enough', 'to', 'split', 'continents', 'and', 'raise', 'mountains', 'no', 'one', 'actually', 'saw', 'it', 'land', 'which', 'raised', 'the', 'interesting', 'philosophical', 'question', 'when']\n"
          ]
        }
      ]
    },
    {
      "cell_type": "code",
      "source": [
        "model = gensim.models.Word2Vec(\n",
        "[processed_lines],\n",
        "negative = 10, # negative sampling how many \"noise words\" should be drawn\n",
        "iter = 100,\n",
        "min_count = 1, # ignores all words with total frequency lower than this\n",
        "window = 7, # maximum distance between the current and predicted word\n",
        "size = 40 # dimension of the word vector\n",
        ")"
      ],
      "metadata": {
        "id": "AGjoFjshWffc"
      },
      "execution_count": 29,
      "outputs": []
    },
    {
      "cell_type": "code",
      "source": [
        "print(model.wv['commander'])"
      ],
      "metadata": {
        "colab": {
          "base_uri": "https://localhost:8080/"
        },
        "id": "l1uFj-WPWvCD",
        "outputId": "8e654e45-b0a1-4ae4-8f29-1f1cfef229db"
      },
      "execution_count": 34,
      "outputs": [
        {
          "output_type": "stream",
          "name": "stdout",
          "text": [
            "[-0.49624574 -0.8088185   1.2065322  -0.83723897 -0.8050943  -0.33288932\n",
            " -0.9669903  -0.94367045 -1.1784036  -0.08904225  0.7096765   1.4168352\n",
            " -0.5051703  -1.5994768   1.1965592  -0.7046504  -0.15424189 -0.13910557\n",
            " -1.0772296  -1.1484048   1.2792107   1.3132606   0.64090955 -0.17492379\n",
            " -0.29247522 -0.54513437  1.0035291  -0.88238543 -0.7984511   1.0796705\n",
            "  0.14177993  0.8645603  -0.13818438 -0.5118208  -0.6451316  -0.71984816\n",
            "  2.3986986   0.6752798   0.7936306  -0.14359277]\n"
          ]
        }
      ]
    },
    {
      "cell_type": "code",
      "source": [
        "print(model.wv.most_similar('lords', topn=5))"
      ],
      "metadata": {
        "colab": {
          "base_uri": "https://localhost:8080/"
        },
        "id": "DEtAEOfFW0oc",
        "outputId": "b30eca3b-1d08-4b94-8973-f838c943607c"
      },
      "execution_count": 36,
      "outputs": [
        {
          "output_type": "stream",
          "name": "stdout",
          "text": [
            "[('enforce', 0.9940054416656494), ('banditry', 0.9796366691589355), ('workshops', 0.9702761769294739), ('tenements', 0.9680842161178589), ('whalebone', 0.9547128081321716)]\n"
          ]
        }
      ]
    },
    {
      "cell_type": "code",
      "source": [
        "model.wv.similarity('dwarf', 'he')"
      ],
      "metadata": {
        "colab": {
          "base_uri": "https://localhost:8080/"
        },
        "id": "gIHhBue9Xl9m",
        "outputId": "5e8f4b35-448c-4520-b2b0-da89efaa7b2b"
      },
      "execution_count": 37,
      "outputs": [
        {
          "output_type": "execute_result",
          "data": {
            "text/plain": [
              "0.30446663"
            ]
          },
          "metadata": {},
          "execution_count": 37
        }
      ]
    },
    {
      "cell_type": "code",
      "source": [
        "model.wv.similarity('mountain', 'mountain')"
      ],
      "metadata": {
        "colab": {
          "base_uri": "https://localhost:8080/"
        },
        "id": "fhVMuaZpYm9h",
        "outputId": "d9bd4260-e09d-4768-b76f-d05592d31844"
      },
      "execution_count": 38,
      "outputs": [
        {
          "output_type": "execute_result",
          "data": {
            "text/plain": [
              "1.0"
            ]
          },
          "metadata": {},
          "execution_count": 38
        }
      ]
    },
    {
      "cell_type": "code",
      "source": [
        "model.wv.most_similar_cosmul(positive=['lord', 'he'],negative=['she'])"
      ],
      "metadata": {
        "colab": {
          "base_uri": "https://localhost:8080/"
        },
        "id": "Cb-MmKh4ZGfK",
        "outputId": "471f1244-7723-46b8-9a84-509b4fb216c6"
      },
      "execution_count": 40,
      "outputs": [
        {
          "output_type": "execute_result",
          "data": {
            "text/plain": [
              "[('mind', 1.1413027048110962),\n",
              " ('pace', 1.1173887252807617),\n",
              " ('won', 1.1067078113555908),\n",
              " ('lordship', 1.1055054664611816),\n",
              " ('nearly', 1.1010586023330688),\n",
              " ('stretched', 1.079922080039978),\n",
              " ('majorities', 1.0719631910324097),\n",
              " ('crowned', 1.0711127519607544),\n",
              " ('tragedy', 1.0709635019302368),\n",
              " ('cos', 1.0681880712509155)]"
            ]
          },
          "metadata": {},
          "execution_count": 40
        }
      ]
    }
  ]
}