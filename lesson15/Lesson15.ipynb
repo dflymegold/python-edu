{
  "nbformat": 4,
  "nbformat_minor": 0,
  "metadata": {
    "colab": {
      "name": "Lesson15.ipynb",
      "provenance": [],
      "collapsed_sections": []
    },
    "kernelspec": {
      "name": "python3",
      "display_name": "Python 3"
    },
    "language_info": {
      "name": "python"
    },
    "accelerator": "GPU"
  },
  "cells": [
    {
      "cell_type": "code",
      "execution_count": 23,
      "metadata": {
        "id": "R1TspLjjFFiH"
      },
      "outputs": [],
      "source": [
        "import tensorflow as tf\n",
        "import numpy as np\n",
        "\n",
        "# Loading files\n",
        "fig1 = tf.io.read_file('/content/01.jpg')\n",
        "fig2 = tf.io.read_file('/content/02.jpg')\n",
        "# Converting to tensors\n",
        "fig1_tensor = tf.io.decode_jpeg(fig1)\n",
        "fig2_tensor = tf.io.decode_jpeg(fig2)\n",
        "# Since the tensors have equal shape use tf.add function to get result\n",
        "foo_add = tf.add (fig1_tensor,fig2_tensor)\n",
        "# Saving final image\n",
        "tf.keras.utils.save_img('/content/rez.jpg', foo_add)"
      ]
    }
  ]
}